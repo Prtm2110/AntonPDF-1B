{
 "cells": [
  {
   "cell_type": "code",
   "execution_count": null,
   "id": "bf27269e",
   "metadata": {},
   "outputs": [],
   "source": [
    "from semantic_search_to_json import Output_Analysis\n",
    "\n",
    "Output_Analysis(\"How to play monopoly\" , 'input_small.json')\n"
   ]
  },
  {
   "cell_type": "code",
   "execution_count": 6,
   "id": "f19014a5",
   "metadata": {},
   "outputs": [],
   "source": [
    "from llm4_to_json import extract_outline_and_title\n",
    "import pymupdf4llm\n",
    "import json\n",
    "import os\n",
    "\n",
    "def parse_pdf_for_text_and_outline(docs_path=None):\n",
    "    all_outlines = []\n",
    "    text_and_meta = []\n",
    "    docs_path = \"/home/lord_grivous/Desktop/1Breal/AntonB/data/\"\n",
    "    for file in [file for file in os.listdir(docs_path) if file.endswith('.pdf')]:\n",
    "        file_path = os.path.join(docs_path, file)\n",
    "\n",
    "        md_text = pymupdf4llm.to_markdown(file_path, page_chunks=True)\n",
    "        all_outlines.append(extract_outline_and_title(md_text))\n",
    "\n",
    "        page_text = \"\"\n",
    "        for pages in md_text:        \n",
    "            page_text += pages[\"text\"]\n",
    "        text_and_meta.append({\n",
    "            \"text\": page_text,\n",
    "            \"document\": file_path,\n",
    "        })\n",
    "\n",
    "    return text_and_meta, all_outlines\n",
    "    \n"
   ]
  },
  {
   "cell_type": "code",
   "execution_count": 7,
   "id": "d777b995",
   "metadata": {},
   "outputs": [],
   "source": [
    "text_and_meta, all_outlines =  parse_pdf_for_text_and_outline()\n"
   ]
  },
  {
   "cell_type": "code",
   "execution_count": 8,
   "id": "8127e978",
   "metadata": {},
   "outputs": [],
   "source": [
    "from fastembed.embedding import DefaultEmbedding\n",
    "import numpy as np\n",
    "\n",
    "# Load small embedding model (auto-downloads)\n",
    "embedder = DefaultEmbedding(model_name=\"BAAI/bge-small-en-v1.5\", cache_dir=\"emb_models\")\n",
    "\n",
    "def avg_embed(text: str) -> np.ndarray:\n",
    "    embeddings = list(embedder.embed(text))\n",
    "    return np.array(embeddings[0]) if embeddings else np.zeros(embedder.embedding_size)\n"
   ]
  },
  {
   "cell_type": "code",
   "execution_count": 9,
   "id": "8eab4b99",
   "metadata": {},
   "outputs": [],
   "source": [
    "avg_embeddings = [avg_embed(item[\"text\"]) for item in text_and_meta]"
   ]
  },
  {
   "cell_type": "code",
   "execution_count": null,
   "id": "e3eb41de",
   "metadata": {},
   "outputs": [],
   "source": []
  }
 ],
 "metadata": {
  "kernelspec": {
   "display_name": "adobe",
   "language": "python",
   "name": "python3"
  },
  "language_info": {
   "codemirror_mode": {
    "name": "ipython",
    "version": 3
   },
   "file_extension": ".py",
   "mimetype": "text/x-python",
   "name": "python",
   "nbconvert_exporter": "python",
   "pygments_lexer": "ipython3",
   "version": "3.11.13"
  }
 },
 "nbformat": 4,
 "nbformat_minor": 5
}
