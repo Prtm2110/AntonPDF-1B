{
 "cells": [
  {
   "cell_type": "code",
   "execution_count": null,
   "id": "bf27269e",
   "metadata": {},
   "outputs": [],
   "source": [
    "from semantic_search_to_json import Output_Analysis\n",
    "\n",
    "Output_Analysis(\"How to play monopoly\" , 'input_small.json')\n"
   ]
  },
  {
   "cell_type": "code",
   "execution_count": 6,
   "id": "f19014a5",
   "metadata": {},
   "outputs": [],
   "source": [
    "from llm4_to_json import extract_outline_and_title\n",
    "import pymupdf4llm\n",
    "import json\n",
    "import os\n",
    "\n",
    "def parse_pdf_for_text_and_outline(docs_path=None):\n",
    "    all_outlines = []\n",
    "    text_and_meta = []\n",
    "    docs_path = \"/home/lord_grivous/Desktop/1Breal/AntonB/data/\"\n",
    "    for file in [file for file in os.listdir(docs_path) if file.endswith('.pdf')]:\n",
    "        file_path = os.path.join(docs_path, file)\n",
    "\n",
    "        md_text = pymupdf4llm.to_markdown(file_path, page_chunks=True)\n",
    "        all_outlines.append(extract_outline_and_title(md_text))\n",
    "\n",
    "        page_text = \"\"\n",
    "        for pages in md_text:        \n",
    "            page_text += pages[\"text\"]\n",
    "        text_and_meta.append({\n",
    "            \"text\": page_text,\n",
    "            \"document\": file_path,\n",
    "        })\n",
    "\n",
    "    return text_and_meta, all_outlines\n",
    "    \n"
   ]
  },
  {
   "cell_type": "code",
   "execution_count": 7,
   "id": "d777b995",
   "metadata": {},
   "outputs": [],
   "source": [
    "text_and_meta, all_outlines =  parse_pdf_for_text_and_outline()\n"
   ]
  },
  {
   "cell_type": "code",
   "execution_count": 8,
   "id": "8127e978",
   "metadata": {},
   "outputs": [],
   "source": [
    "from fastembed.embedding import DefaultEmbedding\n",
    "import numpy as np\n",
    "\n",
    "# Load small embedding model (auto-downloads)\n",
    "embedder = DefaultEmbedding(model_name=\"BAAI/bge-small-en-v1.5\", cache_dir=\"emb_models\")\n",
    "\n",
    "def avg_embed(text: str) -> np.ndarray:\n",
    "    embeddings = list(embedder.embed(text))\n",
    "    return np.array(embeddings[0]) if embeddings else np.zeros(embedder.embedding_size)\n"
   ]
  },
  {
   "cell_type": "code",
   "execution_count": 9,
   "id": "8eab4b99",
   "metadata": {},
   "outputs": [],
   "source": [
    "avg_embeddings = [avg_embed(item[\"text\"]) for item in text_and_meta]"
   ]
  },
  {
   "cell_type": "code",
   "execution_count": 16,
   "id": "b64cadc1",
   "metadata": {},
   "outputs": [
    {
     "ename": "ValueError",
     "evalue": "\u001b[91mYou are using a deprecated configuration of Chroma.\n\n\u001b[94mIf you do not have data you wish to migrate, you only need to change how you construct\nyour Chroma client. Please see the \"New Clients\" section of https://docs.trychroma.com/deployment/migration.\n________________________________________________________________________________________________\n\nIf you do have data you wish to migrate, we have a migration tool you can use in order to\nmigrate your data to the new Chroma architecture.\nPlease `pip install chroma-migrate` and run `chroma-migrate` to migrate your data and then\nchange how you construct your Chroma client.\n\nSee https://docs.trychroma.com/deployment/migration for more information or join our discord at https://discord.gg/MMeYNTmh3x for help!\u001b[0m",
     "output_type": "error",
     "traceback": [
      "\u001b[31m---------------------------------------------------------------------------\u001b[39m",
      "\u001b[31mValueError\u001b[39m                                Traceback (most recent call last)",
      "\u001b[36mCell\u001b[39m\u001b[36m \u001b[39m\u001b[32mIn[16]\u001b[39m\u001b[32m, line 6\u001b[39m\n\u001b[32m      3\u001b[39m \u001b[38;5;28;01mfrom\u001b[39;00m\u001b[38;5;250m \u001b[39m\u001b[34;01mchromadb\u001b[39;00m\u001b[34;01m.\u001b[39;00m\u001b[34;01mconfig\u001b[39;00m\u001b[38;5;250m \u001b[39m\u001b[38;5;28;01mimport\u001b[39;00m Settings\n\u001b[32m      5\u001b[39m \u001b[38;5;66;03m# Setup Chroma DB\u001b[39;00m\n\u001b[32m----> \u001b[39m\u001b[32m6\u001b[39m client = \u001b[43mchromadb\u001b[49m\u001b[43m.\u001b[49m\u001b[43mClient\u001b[49m\u001b[43m(\u001b[49m\u001b[43mSettings\u001b[49m\u001b[43m(\u001b[49m\n\u001b[32m      7\u001b[39m \u001b[43m    \u001b[49m\u001b[43mchroma_db_impl\u001b[49m\u001b[43m=\u001b[49m\u001b[33;43m\"\u001b[39;49m\u001b[33;43mduckdb+parquet\u001b[39;49m\u001b[33;43m\"\u001b[39;49m\u001b[43m,\u001b[49m\n\u001b[32m      8\u001b[39m \u001b[43m    \u001b[49m\u001b[43mpersist_directory\u001b[49m\u001b[43m=\u001b[49m\u001b[33;43m\"\u001b[39;49m\u001b[33;43m./chroma_db\u001b[39;49m\u001b[33;43m\"\u001b[39;49m\n\u001b[32m      9\u001b[39m \u001b[43m)\u001b[49m\u001b[43m)\u001b[49m\n\u001b[32m     11\u001b[39m \u001b[38;5;66;03m# Create collection\u001b[39;00m\n\u001b[32m     12\u001b[39m collection = client.get_or_create_collection(name=\u001b[33m\"\u001b[39m\u001b[33mmy_docs\u001b[39m\u001b[33m\"\u001b[39m)\n",
      "\u001b[36mFile \u001b[39m\u001b[32m~/anaconda3/envs/adobe/lib/python3.11/site-packages/chromadb/__init__.py:379\u001b[39m, in \u001b[36mClient\u001b[39m\u001b[34m(settings, tenant, database)\u001b[39m\n\u001b[32m    376\u001b[39m tenant = \u001b[38;5;28mstr\u001b[39m(tenant)\n\u001b[32m    377\u001b[39m database = \u001b[38;5;28mstr\u001b[39m(database)\n\u001b[32m--> \u001b[39m\u001b[32m379\u001b[39m \u001b[38;5;28;01mreturn\u001b[39;00m \u001b[43mClientCreator\u001b[49m\u001b[43m(\u001b[49m\u001b[43mtenant\u001b[49m\u001b[43m=\u001b[49m\u001b[43mtenant\u001b[49m\u001b[43m,\u001b[49m\u001b[43m \u001b[49m\u001b[43mdatabase\u001b[49m\u001b[43m=\u001b[49m\u001b[43mdatabase\u001b[49m\u001b[43m,\u001b[49m\u001b[43m \u001b[49m\u001b[43msettings\u001b[49m\u001b[43m=\u001b[49m\u001b[43msettings\u001b[49m\u001b[43m)\u001b[49m\n",
      "\u001b[36mFile \u001b[39m\u001b[32m~/anaconda3/envs/adobe/lib/python3.11/site-packages/chromadb/api/client.py:65\u001b[39m, in \u001b[36mClient.__init__\u001b[39m\u001b[34m(self, tenant, database, settings)\u001b[39m\n\u001b[32m     59\u001b[39m \u001b[38;5;28;01mdef\u001b[39;00m\u001b[38;5;250m \u001b[39m\u001b[34m__init__\u001b[39m(\n\u001b[32m     60\u001b[39m     \u001b[38;5;28mself\u001b[39m,\n\u001b[32m     61\u001b[39m     tenant: \u001b[38;5;28mstr\u001b[39m = DEFAULT_TENANT,\n\u001b[32m     62\u001b[39m     database: \u001b[38;5;28mstr\u001b[39m = DEFAULT_DATABASE,\n\u001b[32m     63\u001b[39m     settings: Settings = Settings(),\n\u001b[32m     64\u001b[39m ) -> \u001b[38;5;28;01mNone\u001b[39;00m:\n\u001b[32m---> \u001b[39m\u001b[32m65\u001b[39m     \u001b[38;5;28;43msuper\u001b[39;49m\u001b[43m(\u001b[49m\u001b[43m)\u001b[49m\u001b[43m.\u001b[49m\u001b[34;43m__init__\u001b[39;49m\u001b[43m(\u001b[49m\u001b[43msettings\u001b[49m\u001b[43m=\u001b[49m\u001b[43msettings\u001b[49m\u001b[43m)\u001b[49m\n\u001b[32m     66\u001b[39m     \u001b[38;5;28mself\u001b[39m.tenant = tenant\n\u001b[32m     67\u001b[39m     \u001b[38;5;28mself\u001b[39m.database = database\n",
      "\u001b[36mFile \u001b[39m\u001b[32m~/anaconda3/envs/adobe/lib/python3.11/site-packages/chromadb/api/shared_system_client.py:19\u001b[39m, in \u001b[36mSharedSystemClient.__init__\u001b[39m\u001b[34m(self, settings)\u001b[39m\n\u001b[32m     14\u001b[39m \u001b[38;5;28;01mdef\u001b[39;00m\u001b[38;5;250m \u001b[39m\u001b[34m__init__\u001b[39m(\n\u001b[32m     15\u001b[39m     \u001b[38;5;28mself\u001b[39m,\n\u001b[32m     16\u001b[39m     settings: Settings = Settings(),\n\u001b[32m     17\u001b[39m ) -> \u001b[38;5;28;01mNone\u001b[39;00m:\n\u001b[32m     18\u001b[39m     \u001b[38;5;28mself\u001b[39m._identifier = SharedSystemClient._get_identifier_from_settings(settings)\n\u001b[32m---> \u001b[39m\u001b[32m19\u001b[39m     \u001b[43mSharedSystemClient\u001b[49m\u001b[43m.\u001b[49m\u001b[43m_create_system_if_not_exists\u001b[49m\u001b[43m(\u001b[49m\u001b[38;5;28;43mself\u001b[39;49m\u001b[43m.\u001b[49m\u001b[43m_identifier\u001b[49m\u001b[43m,\u001b[49m\u001b[43m \u001b[49m\u001b[43msettings\u001b[49m\u001b[43m)\u001b[49m\n",
      "\u001b[36mFile \u001b[39m\u001b[32m~/anaconda3/envs/adobe/lib/python3.11/site-packages/chromadb/api/shared_system_client.py:26\u001b[39m, in \u001b[36mSharedSystemClient._create_system_if_not_exists\u001b[39m\u001b[34m(cls, identifier, settings)\u001b[39m\n\u001b[32m     21\u001b[39m \u001b[38;5;129m@classmethod\u001b[39m\n\u001b[32m     22\u001b[39m \u001b[38;5;28;01mdef\u001b[39;00m\u001b[38;5;250m \u001b[39m\u001b[34m_create_system_if_not_exists\u001b[39m(\n\u001b[32m     23\u001b[39m     \u001b[38;5;28mcls\u001b[39m, identifier: \u001b[38;5;28mstr\u001b[39m, settings: Settings\n\u001b[32m     24\u001b[39m ) -> System:\n\u001b[32m     25\u001b[39m     \u001b[38;5;28;01mif\u001b[39;00m identifier \u001b[38;5;129;01mnot\u001b[39;00m \u001b[38;5;129;01min\u001b[39;00m \u001b[38;5;28mcls\u001b[39m._identifier_to_system:\n\u001b[32m---> \u001b[39m\u001b[32m26\u001b[39m         new_system = \u001b[43mSystem\u001b[49m\u001b[43m(\u001b[49m\u001b[43msettings\u001b[49m\u001b[43m)\u001b[49m\n\u001b[32m     27\u001b[39m         \u001b[38;5;28mcls\u001b[39m._identifier_to_system[identifier] = new_system\n\u001b[32m     29\u001b[39m         new_system.instance(ProductTelemetryClient)\n",
      "\u001b[36mFile \u001b[39m\u001b[32m~/anaconda3/envs/adobe/lib/python3.11/site-packages/chromadb/config.py:385\u001b[39m, in \u001b[36mSystem.__init__\u001b[39m\u001b[34m(self, settings)\u001b[39m\n\u001b[32m    383\u001b[39m \u001b[38;5;66;03m# Validate settings don't contain any legacy config values\u001b[39;00m\n\u001b[32m    384\u001b[39m \u001b[38;5;28;01mfor\u001b[39;00m key \u001b[38;5;129;01min\u001b[39;00m _legacy_config_keys:\n\u001b[32m--> \u001b[39m\u001b[32m385\u001b[39m     \u001b[38;5;28;01mif\u001b[39;00m \u001b[43msettings\u001b[49m\u001b[43m[\u001b[49m\u001b[43mkey\u001b[49m\u001b[43m]\u001b[49m \u001b[38;5;129;01mis\u001b[39;00m \u001b[38;5;129;01mnot\u001b[39;00m \u001b[38;5;28;01mNone\u001b[39;00m:\n\u001b[32m    386\u001b[39m         \u001b[38;5;28;01mraise\u001b[39;00m \u001b[38;5;167;01mValueError\u001b[39;00m(LEGACY_ERROR)\n\u001b[32m    388\u001b[39m \u001b[38;5;28;01mif\u001b[39;00m (\n\u001b[32m    389\u001b[39m     settings[\u001b[33m\"\u001b[39m\u001b[33mchroma_segment_cache_policy\u001b[39m\u001b[33m\"\u001b[39m] \u001b[38;5;129;01mis\u001b[39;00m \u001b[38;5;129;01mnot\u001b[39;00m \u001b[38;5;28;01mNone\u001b[39;00m\n\u001b[32m    390\u001b[39m     \u001b[38;5;129;01mand\u001b[39;00m settings[\u001b[33m\"\u001b[39m\u001b[33mchroma_segment_cache_policy\u001b[39m\u001b[33m\"\u001b[39m] != \u001b[33m\"\u001b[39m\u001b[33mLRU\u001b[39m\u001b[33m\"\u001b[39m\n\u001b[32m    391\u001b[39m ):\n",
      "\u001b[36mFile \u001b[39m\u001b[32m~/anaconda3/envs/adobe/lib/python3.11/site-packages/chromadb/config.py:319\u001b[39m, in \u001b[36mSettings.__getitem__\u001b[39m\u001b[34m(self, key)\u001b[39m\n\u001b[32m    317\u001b[39m \u001b[38;5;66;03m# Error on legacy config values\u001b[39;00m\n\u001b[32m    318\u001b[39m \u001b[38;5;28;01mif\u001b[39;00m \u001b[38;5;28misinstance\u001b[39m(val, \u001b[38;5;28mstr\u001b[39m) \u001b[38;5;129;01mand\u001b[39;00m val \u001b[38;5;129;01min\u001b[39;00m _legacy_config_values:\n\u001b[32m--> \u001b[39m\u001b[32m319\u001b[39m     \u001b[38;5;28;01mraise\u001b[39;00m \u001b[38;5;167;01mValueError\u001b[39;00m(LEGACY_ERROR)\n\u001b[32m    320\u001b[39m \u001b[38;5;28;01mreturn\u001b[39;00m val\n",
      "\u001b[31mValueError\u001b[39m: \u001b[91mYou are using a deprecated configuration of Chroma.\n\n\u001b[94mIf you do not have data you wish to migrate, you only need to change how you construct\nyour Chroma client. Please see the \"New Clients\" section of https://docs.trychroma.com/deployment/migration.\n________________________________________________________________________________________________\n\nIf you do have data you wish to migrate, we have a migration tool you can use in order to\nmigrate your data to the new Chroma architecture.\nPlease `pip install chroma-migrate` and run `chroma-migrate` to migrate your data and then\nchange how you construct your Chroma client.\n\nSee https://docs.trychroma.com/deployment/migration for more information or join our discord at https://discord.gg/MMeYNTmh3x for help!\u001b[0m"
     ]
    }
   ],
   "source": [
    "from fastembed.embedding import DefaultEmbedding\n",
    "import chromadb\n",
    "from chromadb.config import Settings\n",
    "\n",
    "# Setup Chroma DB\n",
    "client = chromadb.Client(Settings(\n",
    "    chroma_db_impl=\"duckdb+parquet\",\n",
    "    persist_directory=\"./chroma_db\"\n",
    "))\n",
    "\n",
    "# Create collection\n",
    "collection = client.get_or_create_collection(name=\"my_docs\")\n",
    "\n",
    "# Load embedder\n",
    "embedder = DefaultEmbedding(model_name=\"BAAI/bge-small-en-v1.5\")\n",
    "\n",
    "# Your data\n",
    "texts = [\n",
    "    \"How to play Monopoly\",\n",
    "    \"Monopoly is a board game where players buy property.\",\n",
    "    \"To cook pasta, boil water and add salt.\",\n",
    "]\n",
    "\n",
    "# Add embeddings to Chroma\n",
    "for i, text in enumerate(texts):\n",
    "    vector = list(embedder.embed(text))[0]\n",
    "    collection.add(\n",
    "        documents=[text],\n",
    "        embeddings=[vector],\n",
    "        ids=[f\"doc_{i}\"]\n",
    "    )\n",
    "\n",
    "# Persist the DB (optional)\n",
    "client.persist()\n"
   ]
  },
  {
   "cell_type": "code",
   "execution_count": null,
   "id": "e3eb41de",
   "metadata": {},
   "outputs": [],
   "source": []
  }
 ],
 "metadata": {
  "kernelspec": {
   "display_name": "adobe",
   "language": "python",
   "name": "python3"
  },
  "language_info": {
   "codemirror_mode": {
    "name": "ipython",
    "version": 3
   },
   "file_extension": ".py",
   "mimetype": "text/x-python",
   "name": "python",
   "nbconvert_exporter": "python",
   "pygments_lexer": "ipython3",
   "version": "3.11.13"
  }
 },
 "nbformat": 4,
 "nbformat_minor": 5
}
