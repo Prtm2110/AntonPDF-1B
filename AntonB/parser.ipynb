{
 "cells": [
  {
   "cell_type": "code",
   "execution_count": null,
   "id": "bf27269e",
   "metadata": {},
   "outputs": [
    {
     "name": "stderr",
     "output_type": "stream",
     "text": [
      "/home/lord_grivous/anaconda3/envs/adobe/lib/python3.11/site-packages/tqdm/auto.py:21: TqdmWarning: IProgress not found. Please update jupyter and ipywidgets. See https://ipywidgets.readthedocs.io/en/stable/user_install.html\n",
      "  from .autonotebook import tqdm as notebook_tqdm\n"
     ]
    }
   ],
   "source": [
    "from semantic_search_to_json import Output_Analysis\n",
    "\n",
    "Output_Analysis(\"How to play monopoly\" , 'input_small.json')\n"
   ]
  },
  {
   "cell_type": "code",
   "execution_count": 1,
   "id": "f19014a5",
   "metadata": {},
   "outputs": [],
   "source": [
    "from llm4_to_json import extract_outline_from_pdf\n",
    "import json\n",
    "import os\n",
    "complete_json = []\n",
    "docs_path = \"/home/lord_grivous/Desktop/1Breal/AntonB/data/\"\n",
    "for file in [file for file in os.listdir(docs_path) if file.endswith('.pdf')]:\n",
    "    file_path = os.path.join(docs_path, file)\n",
    "    complete_json.append(extract_outline_from_pdf(file_path))\n"
   ]
  },
  {
   "cell_type": "code",
   "execution_count": null,
   "id": "d777b995",
   "metadata": {},
   "outputs": [],
   "source": []
  }
 ],
 "metadata": {
  "kernelspec": {
   "display_name": "adobe",
   "language": "python",
   "name": "python3"
  },
  "language_info": {
   "codemirror_mode": {
    "name": "ipython",
    "version": 3
   },
   "file_extension": ".py",
   "mimetype": "text/x-python",
   "name": "python",
   "nbconvert_exporter": "python",
   "pygments_lexer": "ipython3",
   "version": "3.11.13"
  }
 },
 "nbformat": 4,
 "nbformat_minor": 5
}
