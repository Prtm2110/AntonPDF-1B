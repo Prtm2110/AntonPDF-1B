{
 "cells": [
  {
   "cell_type": "code",
   "execution_count": 1,
   "id": "bf27269e",
   "metadata": {},
   "outputs": [
    {
     "name": "stderr",
     "output_type": "stream",
     "text": [
      "/home/lord_grivous/anaconda3/envs/adobe/lib/python3.11/site-packages/tqdm/auto.py:21: TqdmWarning: IProgress not found. Please update jupyter and ipywidgets. See https://ipywidgets.readthedocs.io/en/stable/user_install.html\n",
      "  from .autonotebook import tqdm as notebook_tqdm\n"
     ]
    },
    {
     "name": "stdout",
     "output_type": "stream",
     "text": [
      "{\n",
      "  \"metadata\": {\n",
      "    \"input_documents\": [\n",
      "      \"monopoly.pdf\",\n",
      "      \"ticket_to_ride.pdf\"\n",
      "    ],\n",
      "    \"persona\": \"Game Pro\",\n",
      "    \"job_to_be_done\": \"Create and manage fillable forms for onboarding and compliance.\"\n",
      "  },\n",
      "  \"extracted_sections\": [\n",
      "    {\n",
      "      \"document\": \"monopoly.pdf\",\n",
      "      \"section_title\": \"Mr. Monopoly: First, move the sum of the two white dice\",\n",
      "      \"rank\": 1\n",
      "    },\n",
      "    {\n",
      "      \"document\": \"monopoly.pdf\",\n",
      "      \"section_title\": \"Use the white dice ONLY when rolling to get out of jail.\",\n",
      "      \"rank\": 2\n",
      "    },\n",
      "    {\n",
      "      \"document\": \"monopoly.pdf\",\n",
      "      \"section_title\": \"Property Trading Game from Parker Brothers\\\"\",\n",
      "      \"rank\": 3\n",
      "    },\n",
      "    {\n",
      "      \"document\": \"monopoly.pdf\",\n",
      "      \"section_title\": \"Each player is given $1,500 divided as follows: P each of $500s,\",\n",
      "      \"rank\": 4\n",
      "    },\n",
      "    {\n",
      "      \"document\": \"ticket_to_ride.pdf\",\n",
      "      \"section_title\": \"u 1 Days of Wonder Online access number\",\n",
      "      \"rank\": 5\n",
      "    }\n",
      "  ],\n",
      "  \"subsection_analysis\": [\n",
      "    {\n",
      "      \"document\": \"monopoly.pdf\",\n",
      "      \"text\": \"Mr. Monopoly: First, move the sum of the two white dice and resolve the space you land on (such as drawing a card, buying the property, paying rent, etc.). Then, one of two things will happen dependin\"\n",
      "    },\n",
      "    {\n",
      "      \"document\": \"monopoly.pdf\",\n",
      "      \"text\": \"Use the white dice ONLY when rolling to get out of jail. L Use the sum of all three dice when determining how much to pay on a utility. Note: The Bus and Mr. Monopoly are valued at 0. CLASSIC MONOPOW \"\n",
      "    },\n",
      "    {\n",
      "      \"document\": \"monopoly.pdf\",\n",
      "      \"text\": \"Property Trading Game from Parker Brothers\\\" fast as playing with i't. / 1, 2, or 3: Add this number to the roll of the two white dice. You'll zoom around the board.\"\n",
      "    },\n",
      "    {\n",
      "      \"document\": \"monopoly.pdf\",\n",
      "      \"text\": \"Each player is given $1,500 divided as follows: P each of $500s, $ 1 0 0 ~ and $50~; 6 $40~; 5 each of $105, $ 5 ~ and $Is. All remaining money and other equipment go to the Bank. Stack the .. Bank's \"\n",
      "    },\n",
      "    {\n",
      "      \"document\": \"ticket_to_ride.pdf\",\n",
      "      \"text\": \"u 1 Days of Wonder Online access number Setting up the Game \\u222b \\u2211 Place the board map in the center of the table. Each player takes a set of 45 Colored Train Cars along with its matching Scoring Marker.\"\n",
      "    }\n",
      "  ]\n",
      "}\n"
     ]
    }
   ],
   "source": [
    "from semantic_search_to_json import Output_Analysis\n",
    "\n",
    "Output_Analysis(\"How to play monopoly\" , 'input.json')\n"
   ]
  },
  {
   "cell_type": "code",
   "execution_count": null,
   "id": "b8c7be81",
   "metadata": {},
   "outputs": [],
   "source": []
  }
 ],
 "metadata": {
  "kernelspec": {
   "display_name": "adobe",
   "language": "python",
   "name": "python3"
  },
  "language_info": {
   "codemirror_mode": {
    "name": "ipython",
    "version": 3
   },
   "file_extension": ".py",
   "mimetype": "text/x-python",
   "name": "python",
   "nbconvert_exporter": "python",
   "pygments_lexer": "ipython3",
   "version": "3.11.13"
  }
 },
 "nbformat": 4,
 "nbformat_minor": 5
}
